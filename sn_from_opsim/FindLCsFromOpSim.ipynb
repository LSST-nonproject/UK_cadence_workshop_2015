{
 "metadata": {
  "kernelspec": {
   "display_name": "Python 2",
   "language": "python",
   "name": "python2"
  },
  "language_info": {
   "codemirror_mode": {
    "name": "ipython",
    "version": 2
   },
   "file_extension": ".py",
   "mimetype": "text/x-python",
   "name": "python",
   "nbconvert_exporter": "python",
   "pygments_lexer": "ipython2",
   "version": "2.7.9"
  },
  "name": "",
  "signature": "sha256:562e0c32388303bf829de60c6e93b4be21a8085e109f66afa31729e5ccc8449d"
 },
 "nbformat": 3,
 "nbformat_minor": 0,
 "worksheets": [
  {
   "cells": [
    {
     "cell_type": "heading",
     "level": 1,
     "metadata": {},
     "source": [
      "Supernovae Ia in catSim"
     ]
    },
    {
     "cell_type": "code",
     "collapsed": false,
     "input": [
      "import sniacatalogs as snia\n",
      "from sniacatalogs import sncat"
     ],
     "language": "python",
     "metadata": {},
     "outputs": [],
     "prompt_number": 31
    },
    {
     "cell_type": "code",
     "collapsed": false,
     "input": [
      "import lightcurve_utils as lu"
     ],
     "language": "python",
     "metadata": {},
     "outputs": [],
     "prompt_number": 32
    },
    {
     "cell_type": "code",
     "collapsed": false,
     "input": [
      "import numpy as np\n",
      "%matplotlib inline\n",
      "import matplotlib.pyplot as plt\n",
      "import os"
     ],
     "language": "python",
     "metadata": {},
     "outputs": [],
     "prompt_number": 33
    },
    {
     "cell_type": "code",
     "collapsed": false,
     "input": [
      "#seaborn Comment out if this is not installed\n",
      "import seaborn as sns\n",
      "sns.set()"
     ],
     "language": "python",
     "metadata": {},
     "outputs": [],
     "prompt_number": 34
    },
    {
     "cell_type": "code",
     "collapsed": false,
     "input": [
      "from lsst.sims.catalogs.generation.db import ObservationMetaData\n",
      "from lsst.sims.catUtils.utils import ObservationMetaDataGenerator"
     ],
     "language": "python",
     "metadata": {},
     "outputs": [],
     "prompt_number": 35
    },
    {
     "cell_type": "code",
     "collapsed": false,
     "input": [
      "from lsst.sims.catalogs.generation.db import CatalogDBObject\n",
      "from lsst.sims.catalogs.measures.instance import InstanceCatalog\n",
      "import eups"
     ],
     "language": "python",
     "metadata": {},
     "outputs": [],
     "prompt_number": 36
    },
    {
     "cell_type": "markdown",
     "metadata": {},
     "source": [
      "First, we create a catalog of all the galaxies in the catalog using the `CatalogDBObject.from_objid` "
     ]
    },
    {
     "cell_type": "code",
     "collapsed": false,
     "input": [
      "galDB = CatalogDBObject.from_objid('galaxyTiled')"
     ],
     "language": "python",
     "metadata": {},
     "outputs": [],
     "prompt_number": 37
    },
    {
     "cell_type": "markdown",
     "metadata": {},
     "source": [
      "The next step takes a set of mjds and pointings made up here (ie. this should really come from Opsims, but to simplify this notebook, and build a light curve, we will assume that we decided to point at the same location everyday. And to first try out\n",
      "an instance catalog we can read easily, and understand, we will first do one day.\n",
      "\n",
      "\n",
      "So, let us instantiate an ObservationMetaData object, and write the catalog associated with it"
     ]
    },
    {
     "cell_type": "heading",
     "level": 2,
     "metadata": {},
     "source": [
      "Building Light Curves from Instance Catalogs"
     ]
    },
    {
     "cell_type": "markdown",
     "metadata": {},
     "source": [
      "We would like to create a number of supernova instance catalogs and then build the light curves from the catalogs. To do this correctly, we would like to use the `observation_metadata` associated with a number of conscutive OpSIM pointings. "
     ]
    },
    {
     "cell_type": "code",
     "collapsed": false,
     "input": [
      "opsimPath = os.path.join(eups.productDir('sims_data'),'OpSimData')\n",
      "opsimDB = os.path.join(opsimPath,'opsimblitz1_1133_sqlite.db')\n",
      "\n",
      "# from Tuscon AHM notebook from Scott\n",
      "# This OPSIM DB is provided in sims_data. This creates a list of opsim pointings\n",
      "# that I have checked. This is a tuned notebook\n",
      "generator = ObservationMetaDataGenerator(address = 'sqlite:///'+opsimDB)\n",
      "obsMetaDataResults = generator.getObservationMetaData(limit=100,\n",
      "                                                      fieldRA=(5.0, 8.0), \n",
      "                                                      fieldDec=(-85.,-60.),\n",
      "                                                      expMJD=(49300., 49400.),\n",
      "                                                      boundLength=0.015,\n",
      "                                                      boundType='circle')"
     ],
     "language": "python",
     "metadata": {},
     "outputs": [],
     "prompt_number": 38
    },
    {
     "cell_type": "code",
     "collapsed": false,
     "input": [
      "# How many pointings do we have? \n",
      "print len(obsMetaDataResults)"
     ],
     "language": "python",
     "metadata": {},
     "outputs": [
      {
       "output_type": "stream",
       "stream": "stdout",
       "text": [
        "15\n"
       ]
      }
     ],
     "prompt_number": 39
    },
    {
     "cell_type": "markdown",
     "metadata": {},
     "source": [
      "We now want to write the light curves to a database. The way this function actually works is it creates the instance catalogs \n",
      "for each of the obs_metadata points, writes them to disk using the `InstanceCatalog.write_catalog` method, reads the files from disk (right now the filenames are chosen in the same order as obs_metadata objects), and writes them to a sqlite database."
     ]
    },
    {
     "cell_type": "code",
     "collapsed": false,
     "input": [
      "if not os.path.exists('data/NewLightCurves'): \n",
      "    os.makedirs('data/NewLightCurves')"
     ],
     "language": "python",
     "metadata": {},
     "outputs": [],
     "prompt_number": 10
    },
    {
     "cell_type": "code",
     "collapsed": false,
     "input": [
      "catalog = sncat.SNIaCatalog(db_obj=galDB, obs_metadata=obsMetaDataResults[0])"
     ],
     "language": "python",
     "metadata": {},
     "outputs": [],
     "prompt_number": 40
    },
    {
     "cell_type": "code",
     "collapsed": false,
     "input": [
      "from lsst.sims.photUtils.photometryUtilityFunctions import setupPhotometryCatalog"
     ],
     "language": "python",
     "metadata": {},
     "outputs": [],
     "prompt_number": 44
    },
    {
     "cell_type": "code",
     "collapsed": false,
     "input": [
      "catalog2 = setupPhotometryCatalog(dbConnection=galDB, obs_metadata=obsMetaDataResults[0], catalogClass=sncat.SNIaCatalog)"
     ],
     "language": "python",
     "metadata": {},
     "outputs": [],
     "prompt_number": 45
    },
    {
     "cell_type": "code",
     "collapsed": false,
     "input": [
      "catalog"
     ],
     "language": "python",
     "metadata": {},
     "outputs": []
    },
    {
     "cell_type": "code",
     "collapsed": false,
     "input": [
      "catalog2.midSurveyTime = 49350.\n",
      "catalog2.averageRate = 3650."
     ],
     "language": "python",
     "metadata": {},
     "outputs": [],
     "prompt_number": 46
    },
    {
     "cell_type": "code",
     "collapsed": false,
     "input": [
      "catalog2.write_catalog('tmp.dat')"
     ],
     "language": "python",
     "metadata": {},
     "outputs": [],
     "prompt_number": 48
    },
    {
     "cell_type": "code",
     "collapsed": false,
     "input": [
      "!cat tmp.dat"
     ],
     "language": "python",
     "metadata": {},
     "outputs": [
      {
       "output_type": "stream",
       "stream": "stdout",
       "text": [
        "#snid, snra, sndec, z, t0, c, x1, x0, flux_u, flux_g, flux_r, flux_i, flux_z, flux_y, mag_u, mag_g, mag_r, mag_i, mag_z, mag_y, lsst_z\r\n",
        "11872789, 9.721762e-02, -1.279041e+00, 0.5240, 49281.3824, 7.217470e-02, 0.0643, 9.340197e-06, 0.000000e+00, 0.000000e+00, 0.000000e+00, 0.000000e+00, 0.000000e+00, 0.000000e+00, inf, inf, inf, inf, inf, inf, 26.7803\r\n",
        "5765595, 9.723298e-02, -1.279407e+00, 0.8084, 49435.2454, -2.427608e-01, 0.4612, 3.525017e-06, 0.000000e+00, 0.000000e+00, 0.000000e+00, 0.000000e+00, 0.000000e+00, 0.000000e+00, inf, inf, inf, inf, inf, inf, 25.6287\r\n",
        "12044127, 9.809395e-02, -1.279306e+00, 0.4681, 49271.0919, -9.428889e-03, -0.8146, 1.766446e-05, 0.000000e+00, 0.000000e+00, 0.000000e+00, 0.000000e+00, 0.000000e+00, 0.000000e+00, inf, inf, inf, inf, inf, inf, 26.8698\r\n",
        "1747619, 9.861076e-02, -1.279349e+00, 0.6435, 49448.9606, -3.061978e-02, -0.1349, 6.181718e-06, 0.000000e+00, 0.000000e+00, 0.000000e+00, 0.000000e+00, 0.000000e+00, 0.000000e+00, inf, inf, inf, inf, inf, inf, 23.8289\r\n",
        "981770, 9.703810e-02, -1.279281e+00, 1.0546, 49424.4393, 1.084463e-01, -1.3277, 2.050304e-06, 0.000000e+00, 0.000000e+00, 0.000000e+00, 0.000000e+00, 0.000000e+00, 0.000000e+00, inf, inf, inf, inf, inf, inf, 22.4319\r\n",
        "12418334, 9.725952e-02, -1.279245e+00, 0.2882, 49395.4853, -1.166386e-01, -0.3414, 3.347241e-05, 0.000000e+00, 0.000000e+00, 0.000000e+00, 0.000000e+00, 0.000000e+00, 0.000000e+00, inf, inf, inf, inf, inf, inf, 26.9669\r\n",
        "2631417, 9.763966e-02, -1.279213e+00, 0.4245, 49412.4469, -2.036122e-02, 0.7043, 2.242285e-05, 0.000000e+00, 0.000000e+00, 0.000000e+00, 0.000000e+00, 0.000000e+00, 0.000000e+00, inf, inf, inf, inf, inf, inf, 24.3754\r\n",
        "6674612, 9.752014e-02, -1.279264e+00, 0.6025, 49355.4019, -1.143921e-01, 0.8744, 7.233861e-06, 2.061647e-06, 2.061647e-06, 2.061647e-06, 2.061647e-06, 2.061647e-06, 2.061647e-06, 23.1145, 23.1145, 23.1145, 23.1145, 23.1145, 23.1145, 25.9213\r\n",
        "11463280, 9.796476e-02, -1.279435e+00, 1.0835, 49293.6059, -7.814580e-03, -0.7070, 1.676443e-06, 4.391341e-08, 4.391341e-08, 4.391341e-08, 4.391341e-08, 4.391341e-08, 4.391341e-08, 27.2936, 27.2936, 27.2936, 27.2936, 27.2936, 27.2936, 26.2211\r\n",
        "7962647, 9.748478e-02, -1.279434e+00, 0.8144, 49303.0646, 1.863811e-01, 0.0929, 1.916279e-06, 9.996455e-08, 9.996455e-08, 9.996455e-08, 9.996455e-08, 9.996455e-08, 9.996455e-08, 26.4005, 26.4005, 26.4005, 26.4005, 26.4005, 26.4005, 26.2434\r\n",
        "4917258, 9.745992e-02, -1.279370e+00, 0.4609, 49272.0450, 5.864000e-03, -0.6132, 1.344955e-05, 0.000000e+00, 0.000000e+00, 0.000000e+00, 0.000000e+00, 0.000000e+00, 0.000000e+00, inf, inf, inf, inf, inf, inf, 25.3637\r\n",
        "11370373, 9.858050e-02, -1.279191e+00, 0.9689, 49334.8857, -1.145047e-02, 0.9854, 1.706163e-06, 3.462395e-07, 3.462395e-07, 3.462395e-07, 3.462395e-07, 3.462395e-07, 3.462395e-07, 25.0516, 25.0516, 25.0516, 25.0516, 25.0516, 25.0516, 26.9310\r\n",
        "7746592, 9.856589e-02, -1.279108e+00, 0.4857, 49356.1339, -1.455965e-01, -0.6405, 7.184270e-06, 1.702803e-06, 1.702803e-06, 1.702803e-06, 1.702803e-06, 1.702803e-06, 1.702803e-06, 23.3222, 23.3222, 23.3222, 23.3222, 23.3222, 23.3222, 26.5103\r\n",
        "11658426, 9.835919e-02, -1.279147e+00, 0.3456, 49288.3623, 1.865364e-01, -0.7381, 3.708199e-05, 0.000000e+00, 0.000000e+00, 0.000000e+00, 0.000000e+00, 0.000000e+00, 0.000000e+00, inf, inf, inf, inf, inf, inf, 26.7725\r\n",
        "8579979, 9.754614e-02, -1.279069e+00, 0.1372, 49419.0285, 6.805314e-02, -0.2213, 1.736510e-04, 0.000000e+00, 0.000000e+00, 0.000000e+00, 0.000000e+00, 0.000000e+00, 0.000000e+00, inf, inf, inf, inf, inf, inf, 26.5125\r\n",
        "7900602, 9.789500e-02, -1.279027e+00, 0.8837, 49410.4074, -9.100021e-02, 0.2274, 3.532702e-06, 0.000000e+00, 0.000000e+00, 0.000000e+00, 0.000000e+00, 0.000000e+00, 0.000000e+00, inf, inf, inf, inf, inf, inf, 25.8536\r\n",
        "306175, 9.735953e-02, -1.279109e+00, 0.2439, 49406.8665, -8.156851e-02, 1.6828, 5.577960e-05, 0.000000e+00, 0.000000e+00, 0.000000e+00, 0.000000e+00, 0.000000e+00, 0.000000e+00, inf, inf, inf, inf, inf, inf, 21.9880\r\n",
        "79056, 9.774201e-02, -1.278980e+00, 0.5468, 49328.6703, -4.675875e-02, -0.3590, 7.309213e-06, 1.002722e-06, 1.002722e-06, 1.002722e-06, 1.002722e-06, 1.002722e-06, 1.002722e-06, 23.8971, 23.8971, 23.8971, 23.8971, 23.8971, 23.8971, 20.7040\r\n",
        "14004699, 9.748683e-02, -1.279056e+00, 0.9442, 49295.7271, 7.881303e-02, 0.1440, 2.270781e-06, 8.298437e-08, 8.298437e-08, 8.298437e-08, 8.298437e-08, 8.298437e-08, 8.298437e-08, 26.6026, 26.6026, 26.6026, 26.6026, 26.6026, 26.6026, 27.1287\r\n",
        "3509281, 9.741147e-02, -1.279023e+00, 0.8796, 49387.3998, 1.204850e-01, 0.8667, 4.625697e-06, 3.606942e-07, 3.606942e-07, 3.606942e-07, 3.606942e-07, 3.606942e-07, 3.606942e-07, 25.0072, 25.0072, 25.0072, 25.0072, 25.0072, 25.0072, 24.7319\r\n",
        "11902490, 9.848649e-02, -1.279045e+00, 0.5637, 49436.6201, -7.052215e-02, -0.9529, 6.456605e-06, 0.000000e+00, 0.000000e+00, 0.000000e+00, 0.000000e+00, 0.000000e+00, 0.000000e+00, inf, inf, inf, inf, inf, inf, 26.7220\r\n",
        "4771934, 9.805108e-02, -1.279257e+00, 0.5062, 49263.7832, -1.231680e-01, -0.1444, 1.100621e-05, 0.000000e+00, 0.000000e+00, 0.000000e+00, 0.000000e+00, 0.000000e+00, 0.000000e+00, inf, inf, inf, inf, inf, inf, 25.3144\r\n"
       ]
      }
     ],
     "prompt_number": 49
    },
    {
     "cell_type": "code",
     "collapsed": false,
     "input": [
      "lu.writeCatalogtoDB(dbfile='data/sncat_real.db', dbtable='mysncat', ascii_root='data/SNIa_real_', galdb=galDB, \n",
      "                    obsMetaDataList=obsMetaDataResults, averageRate=3650., midSurveyTime=49350.)\n",
      "    "
     ],
     "language": "python",
     "metadata": {},
     "outputs": [
      {
       "output_type": "stream",
       "stream": "stdout",
       "text": [
        "deleting previous database\n",
        "====================================="
       ]
      },
      {
       "output_type": "stream",
       "stream": "stdout",
       "text": [
        "\n",
        "0 <type 'numpy.string_'> 49362.070248\n",
        "=====================================\n",
        "3650.0 49350.0\n",
        "====================================="
       ]
      },
      {
       "output_type": "stream",
       "stream": "stdout",
       "text": [
        "\n",
        "1 <type 'numpy.string_'> 49364.115003\n",
        "=====================================\n",
        "3650.0 49350.0\n",
        "====================================="
       ]
      },
      {
       "output_type": "stream",
       "stream": "stdout",
       "text": [
        "\n",
        "2 <type 'numpy.string_'> 49368.177159\n",
        "=====================================\n",
        "3650.0 49350.0\n",
        "====================================="
       ]
      },
      {
       "output_type": "stream",
       "stream": "stdout",
       "text": [
        "\n",
        "3 <type 'numpy.string_'> 49368.177576\n",
        "=====================================\n",
        "3650.0 49350.0\n",
        "====================================="
       ]
      },
      {
       "output_type": "stream",
       "stream": "stdout",
       "text": [
        "\n",
        "4 <type 'numpy.string_'> 49355.053207\n",
        "=====================================\n",
        "3650.0 49350.0\n",
        "====================================="
       ]
      },
      {
       "output_type": "stream",
       "stream": "stdout",
       "text": [
        "\n",
        "5 <type 'numpy.string_'> 49355.055404\n",
        "=====================================\n",
        "3650.0 49350.0\n",
        "====================================="
       ]
      },
      {
       "output_type": "stream",
       "stream": "stdout",
       "text": [
        "\n",
        "6 <type 'numpy.string_'> 49362.069356\n",
        "=====================================\n",
        "3650.0 49350.0\n",
        "====================================="
       ]
      },
      {
       "output_type": "stream",
       "stream": "stdout",
       "text": [
        "\n",
        "7 <type 'numpy.string_'> 49365.08971\n",
        "=====================================\n",
        "3650.0 49350.0\n",
        "====================================="
       ]
      },
      {
       "output_type": "stream",
       "stream": "stdout",
       "text": [
        "\n",
        "8 <type 'numpy.string_'> 49368.172717\n",
        "=====================================\n",
        "3650.0 49350.0\n",
        "====================================="
       ]
      },
      {
       "output_type": "stream",
       "stream": "stdout",
       "text": [
        "\n",
        "9 <type 'numpy.string_'> 49369.196014\n",
        "=====================================\n",
        "3650.0 49350.0\n",
        "====================================="
       ]
      },
      {
       "output_type": "stream",
       "stream": "stdout",
       "text": [
        "\n",
        "10 <type 'numpy.string_'> 49370.107511\n",
        "=====================================\n",
        "3650.0 49350.0\n",
        "====================================="
       ]
      },
      {
       "output_type": "stream",
       "stream": "stdout",
       "text": [
        "\n",
        "11 <type 'numpy.string_'> 49362.072473\n",
        "=====================================\n",
        "3650.0 49350.0\n",
        "====================================="
       ]
      },
      {
       "output_type": "stream",
       "stream": "stdout",
       "text": [
        "\n",
        "12 <type 'numpy.string_'> 49365.088264\n",
        "=====================================\n",
        "3650.0 49350.0\n",
        "====================================="
       ]
      },
      {
       "output_type": "stream",
       "stream": "stdout",
       "text": [
        "\n",
        "13 <type 'numpy.string_'> 49370.110671\n",
        "=====================================\n",
        "3650.0 49350.0\n",
        "====================================="
       ]
      },
      {
       "output_type": "stream",
       "stream": "stdout",
       "text": [
        "\n",
        "14 <type 'numpy.string_'> 49370.117093\n",
        "=====================================\n",
        "3650.0 49350.0\n"
       ]
      }
     ],
     "prompt_number": 11
    },
    {
     "cell_type": "markdown",
     "metadata": {},
     "source": [
      "The following function then queries the database, and groups the data by a SNID number to build the light curves."
     ]
    },
    {
     "cell_type": "code",
     "collapsed": false,
     "input": [
      "lcs = lu.getLCsFromDB(dbfile='data/sncat_real.db',\n",
      "                 dbtable='mysncat',\n",
      "                 lc_root='data/LightCurves/SN_real_')"
     ],
     "language": "python",
     "metadata": {},
     "outputs": [],
     "prompt_number": 12
    },
    {
     "cell_type": "markdown",
     "metadata": {},
     "source": [
      "We can check how many light curves are there, and we can display each light curve in the following way"
     ]
    },
    {
     "cell_type": "code",
     "collapsed": false,
     "input": [
      "len(lcs)"
     ],
     "language": "python",
     "metadata": {},
     "outputs": [
      {
       "metadata": {},
       "output_type": "pyout",
       "prompt_number": 13,
       "text": [
        "62"
       ]
      }
     ],
     "prompt_number": 13
    },
    {
     "cell_type": "code",
     "collapsed": false,
     "input": [
      "lcs[0][1]"
     ],
     "language": "python",
     "metadata": {},
     "outputs": [
      {
       "html": [
        "<div style=\"max-height:1000px;max-width:1500px;overflow:auto;\">\n",
        "<table border=\"1\" class=\"dataframe\">\n",
        "  <thead>\n",
        "    <tr style=\"text-align: right;\">\n",
        "      <th></th>\n",
        "      <th>id</th>\n",
        "      <th>mjd</th>\n",
        "      <th>snid</th>\n",
        "      <th>snra</th>\n",
        "      <th>sndec</th>\n",
        "      <th>z</th>\n",
        "      <th>t0</th>\n",
        "      <th>c</th>\n",
        "      <th>x1</th>\n",
        "      <th>x0</th>\n",
        "      <th>...</th>\n",
        "      <th>flux_r</th>\n",
        "      <th>flux_i</th>\n",
        "      <th>flux_z</th>\n",
        "      <th>flux_y</th>\n",
        "      <th>mag_u</th>\n",
        "      <th>mag_g</th>\n",
        "      <th>mag_r</th>\n",
        "      <th>mag_i</th>\n",
        "      <th>mag_z</th>\n",
        "      <th>mag_y</th>\n",
        "    </tr>\n",
        "  </thead>\n",
        "  <tbody>\n",
        "    <tr>\n",
        "      <th>95</th>\n",
        "      <td>obshist10</td>\n",
        "      <td>49355.053207</td>\n",
        "      <td>3041154</td>\n",
        "      <td>0.136024</td>\n",
        "      <td>-1.362578</td>\n",
        "      <td>0.6129</td>\n",
        "      <td>49294.4092</td>\n",
        "      <td>-0.074862</td>\n",
        "      <td>-1.3222</td>\n",
        "      <td>0.000007</td>\n",
        "      <td>...</td>\n",
        "      <td>0</td>\n",
        "      <td>0</td>\n",
        "      <td>0</td>\n",
        "      <td>0</td>\n",
        "      <td>25.2731</td>\n",
        "      <td>25.2731</td>\n",
        "      <td>25.2731</td>\n",
        "      <td>25.2731</td>\n",
        "      <td>25.2731</td>\n",
        "      <td>25.2731</td>\n",
        "    </tr>\n",
        "    <tr>\n",
        "      <th>117</th>\n",
        "      <td>obshist14</td>\n",
        "      <td>49355.055404</td>\n",
        "      <td>3041154</td>\n",
        "      <td>0.136024</td>\n",
        "      <td>-1.362578</td>\n",
        "      <td>0.6129</td>\n",
        "      <td>49294.4092</td>\n",
        "      <td>-0.074862</td>\n",
        "      <td>-1.3222</td>\n",
        "      <td>0.000007</td>\n",
        "      <td>...</td>\n",
        "      <td>0</td>\n",
        "      <td>0</td>\n",
        "      <td>0</td>\n",
        "      <td>0</td>\n",
        "      <td>25.2732</td>\n",
        "      <td>25.2732</td>\n",
        "      <td>25.2732</td>\n",
        "      <td>25.2732</td>\n",
        "      <td>25.2732</td>\n",
        "      <td>25.2732</td>\n",
        "    </tr>\n",
        "    <tr>\n",
        "      <th>135</th>\n",
        "      <td>obshist14</td>\n",
        "      <td>49362.069356</td>\n",
        "      <td>3041154</td>\n",
        "      <td>0.136024</td>\n",
        "      <td>-1.362578</td>\n",
        "      <td>0.6129</td>\n",
        "      <td>49294.4092</td>\n",
        "      <td>-0.074862</td>\n",
        "      <td>-1.3222</td>\n",
        "      <td>0.000007</td>\n",
        "      <td>...</td>\n",
        "      <td>0</td>\n",
        "      <td>0</td>\n",
        "      <td>0</td>\n",
        "      <td>0</td>\n",
        "      <td>25.3110</td>\n",
        "      <td>25.3110</td>\n",
        "      <td>25.3110</td>\n",
        "      <td>25.3110</td>\n",
        "      <td>25.3110</td>\n",
        "      <td>25.3110</td>\n",
        "    </tr>\n",
        "    <tr>\n",
        "      <th>155</th>\n",
        "      <td>obshist15</td>\n",
        "      <td>49365.089710</td>\n",
        "      <td>3041154</td>\n",
        "      <td>0.136024</td>\n",
        "      <td>-1.362578</td>\n",
        "      <td>0.6129</td>\n",
        "      <td>49294.4092</td>\n",
        "      <td>-0.074862</td>\n",
        "      <td>-1.3222</td>\n",
        "      <td>0.000007</td>\n",
        "      <td>...</td>\n",
        "      <td>0</td>\n",
        "      <td>0</td>\n",
        "      <td>0</td>\n",
        "      <td>0</td>\n",
        "      <td>25.3653</td>\n",
        "      <td>25.3653</td>\n",
        "      <td>25.3653</td>\n",
        "      <td>25.3653</td>\n",
        "      <td>25.3653</td>\n",
        "      <td>25.3653</td>\n",
        "    </tr>\n",
        "    <tr>\n",
        "      <th>171</th>\n",
        "      <td>obshist13</td>\n",
        "      <td>49368.172717</td>\n",
        "      <td>3041154</td>\n",
        "      <td>0.136024</td>\n",
        "      <td>-1.362578</td>\n",
        "      <td>0.6129</td>\n",
        "      <td>49294.4092</td>\n",
        "      <td>-0.074862</td>\n",
        "      <td>-1.3222</td>\n",
        "      <td>0.000007</td>\n",
        "      <td>...</td>\n",
        "      <td>0</td>\n",
        "      <td>0</td>\n",
        "      <td>0</td>\n",
        "      <td>0</td>\n",
        "      <td>26.0996</td>\n",
        "      <td>26.0996</td>\n",
        "      <td>26.0996</td>\n",
        "      <td>26.0996</td>\n",
        "      <td>26.0996</td>\n",
        "      <td>26.0996</td>\n",
        "    </tr>\n",
        "    <tr>\n",
        "      <th>188</th>\n",
        "      <td>obshist13</td>\n",
        "      <td>49369.196014</td>\n",
        "      <td>3041154</td>\n",
        "      <td>0.136024</td>\n",
        "      <td>-1.362578</td>\n",
        "      <td>0.6129</td>\n",
        "      <td>49294.4092</td>\n",
        "      <td>-0.074862</td>\n",
        "      <td>-1.3222</td>\n",
        "      <td>0.000007</td>\n",
        "      <td>...</td>\n",
        "      <td>0</td>\n",
        "      <td>0</td>\n",
        "      <td>0</td>\n",
        "      <td>0</td>\n",
        "      <td>25.4423</td>\n",
        "      <td>25.4423</td>\n",
        "      <td>25.4423</td>\n",
        "      <td>25.4423</td>\n",
        "      <td>25.4423</td>\n",
        "      <td>25.4423</td>\n",
        "    </tr>\n",
        "    <tr>\n",
        "      <th>205</th>\n",
        "      <td>obshist13</td>\n",
        "      <td>49370.107511</td>\n",
        "      <td>3041154</td>\n",
        "      <td>0.136024</td>\n",
        "      <td>-1.362578</td>\n",
        "      <td>0.6129</td>\n",
        "      <td>49294.4092</td>\n",
        "      <td>-0.074862</td>\n",
        "      <td>-1.3222</td>\n",
        "      <td>0.000007</td>\n",
        "      <td>...</td>\n",
        "      <td>0</td>\n",
        "      <td>0</td>\n",
        "      <td>0</td>\n",
        "      <td>0</td>\n",
        "      <td>25.4595</td>\n",
        "      <td>25.4595</td>\n",
        "      <td>25.4595</td>\n",
        "      <td>25.4595</td>\n",
        "      <td>25.4595</td>\n",
        "      <td>25.4595</td>\n",
        "    </tr>\n",
        "  </tbody>\n",
        "</table>\n",
        "<p>7 rows \u00d7 22 columns</p>\n",
        "</div>"
       ],
       "metadata": {},
       "output_type": "pyout",
       "prompt_number": 14,
       "text": [
        "            id           mjd     snid      snra     sndec       z          t0  \\\n",
        "95   obshist10  49355.053207  3041154  0.136024 -1.362578  0.6129  49294.4092   \n",
        "117  obshist14  49355.055404  3041154  0.136024 -1.362578  0.6129  49294.4092   \n",
        "135  obshist14  49362.069356  3041154  0.136024 -1.362578  0.6129  49294.4092   \n",
        "155  obshist15  49365.089710  3041154  0.136024 -1.362578  0.6129  49294.4092   \n",
        "171  obshist13  49368.172717  3041154  0.136024 -1.362578  0.6129  49294.4092   \n",
        "188  obshist13  49369.196014  3041154  0.136024 -1.362578  0.6129  49294.4092   \n",
        "205  obshist13  49370.107511  3041154  0.136024 -1.362578  0.6129  49294.4092   \n",
        "\n",
        "            c      x1        x0   ...     flux_r  flux_i  flux_z  flux_y  \\\n",
        "95  -0.074862 -1.3222  0.000007   ...          0       0       0       0   \n",
        "117 -0.074862 -1.3222  0.000007   ...          0       0       0       0   \n",
        "135 -0.074862 -1.3222  0.000007   ...          0       0       0       0   \n",
        "155 -0.074862 -1.3222  0.000007   ...          0       0       0       0   \n",
        "171 -0.074862 -1.3222  0.000007   ...          0       0       0       0   \n",
        "188 -0.074862 -1.3222  0.000007   ...          0       0       0       0   \n",
        "205 -0.074862 -1.3222  0.000007   ...          0       0       0       0   \n",
        "\n",
        "       mag_u    mag_g    mag_r    mag_i    mag_z    mag_y  \n",
        "95   25.2731  25.2731  25.2731  25.2731  25.2731  25.2731  \n",
        "117  25.2732  25.2732  25.2732  25.2732  25.2732  25.2732  \n",
        "135  25.3110  25.3110  25.3110  25.3110  25.3110  25.3110  \n",
        "155  25.3653  25.3653  25.3653  25.3653  25.3653  25.3653  \n",
        "171  26.0996  26.0996  26.0996  26.0996  26.0996  26.0996  \n",
        "188  25.4423  25.4423  25.4423  25.4423  25.4423  25.4423  \n",
        "205  25.4595  25.4595  25.4595  25.4595  25.4595  25.4595  \n",
        "\n",
        "[7 rows x 22 columns]"
       ]
      }
     ],
     "prompt_number": 14
    },
    {
     "cell_type": "code",
     "collapsed": false,
     "input": [
      "type(lcs[3][1])"
     ],
     "language": "python",
     "metadata": {},
     "outputs": [
      {
       "metadata": {},
       "output_type": "pyout",
       "prompt_number": 15,
       "text": [
        "pandas.core.frame.DataFrame"
       ]
      }
     ],
     "prompt_number": 15
    },
    {
     "cell_type": "code",
     "collapsed": false,
     "input": [
      "lcs[12][1]"
     ],
     "language": "python",
     "metadata": {},
     "outputs": [
      {
       "html": [
        "<div style=\"max-height:1000px;max-width:1500px;overflow:auto;\">\n",
        "<table border=\"1\" class=\"dataframe\">\n",
        "  <thead>\n",
        "    <tr style=\"text-align: right;\">\n",
        "      <th></th>\n",
        "      <th>id</th>\n",
        "      <th>mjd</th>\n",
        "      <th>snid</th>\n",
        "      <th>snra</th>\n",
        "      <th>sndec</th>\n",
        "      <th>z</th>\n",
        "      <th>t0</th>\n",
        "      <th>c</th>\n",
        "      <th>x1</th>\n",
        "      <th>x0</th>\n",
        "      <th>...</th>\n",
        "      <th>flux_r</th>\n",
        "      <th>flux_i</th>\n",
        "      <th>flux_z</th>\n",
        "      <th>flux_y</th>\n",
        "      <th>mag_u</th>\n",
        "      <th>mag_g</th>\n",
        "      <th>mag_r</th>\n",
        "      <th>mag_i</th>\n",
        "      <th>mag_z</th>\n",
        "      <th>mag_y</th>\n",
        "    </tr>\n",
        "  </thead>\n",
        "  <tbody>\n",
        "    <tr>\n",
        "      <th>210</th>\n",
        "      <td>obshist1</td>\n",
        "      <td>49362.072473</td>\n",
        "      <td>10844954</td>\n",
        "      <td>0.13662</td>\n",
        "      <td>-1.150883</td>\n",
        "      <td>0.7784</td>\n",
        "      <td>49431.754</td>\n",
        "      <td>-0.123255</td>\n",
        "      <td>1.4015</td>\n",
        "      <td>0.000003</td>\n",
        "      <td>...</td>\n",
        "      <td>0</td>\n",
        "      <td>0</td>\n",
        "      <td>0</td>\n",
        "      <td>0</td>\n",
        "      <td>inf</td>\n",
        "      <td>inf</td>\n",
        "      <td>inf</td>\n",
        "      <td>inf</td>\n",
        "      <td>inf</td>\n",
        "      <td>inf</td>\n",
        "    </tr>\n",
        "    <tr>\n",
        "      <th>246</th>\n",
        "      <td>obshist16</td>\n",
        "      <td>49365.088264</td>\n",
        "      <td>10844954</td>\n",
        "      <td>0.13662</td>\n",
        "      <td>-1.150883</td>\n",
        "      <td>0.7784</td>\n",
        "      <td>49431.754</td>\n",
        "      <td>-0.123255</td>\n",
        "      <td>1.4015</td>\n",
        "      <td>0.000003</td>\n",
        "      <td>...</td>\n",
        "      <td>0</td>\n",
        "      <td>0</td>\n",
        "      <td>0</td>\n",
        "      <td>0</td>\n",
        "      <td>inf</td>\n",
        "      <td>inf</td>\n",
        "      <td>inf</td>\n",
        "      <td>inf</td>\n",
        "      <td>inf</td>\n",
        "      <td>inf</td>\n",
        "    </tr>\n",
        "    <tr>\n",
        "      <th>264</th>\n",
        "      <td>obshist13</td>\n",
        "      <td>49370.110671</td>\n",
        "      <td>10844954</td>\n",
        "      <td>0.13662</td>\n",
        "      <td>-1.150883</td>\n",
        "      <td>0.7784</td>\n",
        "      <td>49431.754</td>\n",
        "      <td>-0.123255</td>\n",
        "      <td>1.4015</td>\n",
        "      <td>0.000003</td>\n",
        "      <td>...</td>\n",
        "      <td>0</td>\n",
        "      <td>0</td>\n",
        "      <td>0</td>\n",
        "      <td>0</td>\n",
        "      <td>inf</td>\n",
        "      <td>inf</td>\n",
        "      <td>inf</td>\n",
        "      <td>inf</td>\n",
        "      <td>inf</td>\n",
        "      <td>inf</td>\n",
        "    </tr>\n",
        "    <tr>\n",
        "      <th>287</th>\n",
        "      <td>obshist16</td>\n",
        "      <td>49370.117093</td>\n",
        "      <td>10844954</td>\n",
        "      <td>0.13662</td>\n",
        "      <td>-1.150883</td>\n",
        "      <td>0.7784</td>\n",
        "      <td>49431.754</td>\n",
        "      <td>-0.123255</td>\n",
        "      <td>1.4015</td>\n",
        "      <td>0.000003</td>\n",
        "      <td>...</td>\n",
        "      <td>0</td>\n",
        "      <td>0</td>\n",
        "      <td>0</td>\n",
        "      <td>0</td>\n",
        "      <td>inf</td>\n",
        "      <td>inf</td>\n",
        "      <td>inf</td>\n",
        "      <td>inf</td>\n",
        "      <td>inf</td>\n",
        "      <td>inf</td>\n",
        "    </tr>\n",
        "  </tbody>\n",
        "</table>\n",
        "<p>4 rows \u00d7 22 columns</p>\n",
        "</div>"
       ],
       "metadata": {},
       "output_type": "pyout",
       "prompt_number": 16,
       "text": [
        "            id           mjd      snid     snra     sndec       z         t0  \\\n",
        "210   obshist1  49362.072473  10844954  0.13662 -1.150883  0.7784  49431.754   \n",
        "246  obshist16  49365.088264  10844954  0.13662 -1.150883  0.7784  49431.754   \n",
        "264  obshist13  49370.110671  10844954  0.13662 -1.150883  0.7784  49431.754   \n",
        "287  obshist16  49370.117093  10844954  0.13662 -1.150883  0.7784  49431.754   \n",
        "\n",
        "            c      x1        x0  ...    flux_r  flux_i  flux_z  flux_y  mag_u  \\\n",
        "210 -0.123255  1.4015  0.000003  ...         0       0       0       0    inf   \n",
        "246 -0.123255  1.4015  0.000003  ...         0       0       0       0    inf   \n",
        "264 -0.123255  1.4015  0.000003  ...         0       0       0       0    inf   \n",
        "287 -0.123255  1.4015  0.000003  ...         0       0       0       0    inf   \n",
        "\n",
        "     mag_g  mag_r  mag_i  mag_z  mag_y  \n",
        "210    inf    inf    inf    inf    inf  \n",
        "246    inf    inf    inf    inf    inf  \n",
        "264    inf    inf    inf    inf    inf  \n",
        "287    inf    inf    inf    inf    inf  \n",
        "\n",
        "[4 rows x 22 columns]"
       ]
      }
     ],
     "prompt_number": 16
    },
    {
     "cell_type": "markdown",
     "metadata": {},
     "source": [
      "In this case, we have light curves associated with two different objects, and we can now plot them."
     ]
    },
    {
     "cell_type": "code",
     "collapsed": false,
     "input": [
      "fig, ax = plt.subplots(figsize=(24,8))\n",
      "lu.plotlc(lcs[0])\n",
      "lu.plotlc(lcs[1], marker='s')\n",
      "ax.invert_yaxis()"
     ],
     "language": "python",
     "metadata": {},
     "outputs": [
      {
       "metadata": {},
       "output_type": "display_data",
       "png": "[encoded data removed]",
       "text": [
        "<matplotlib.figure.Figure at 0x1134943d0>"
       ]
      }
     ],
     "prompt_number": 63
    },
    {
     "cell_type": "markdown",
     "metadata": {},
     "source": [
      "The circles and squares are two different SN which were in lcs. The colors represent the different bands."
     ]
    }
   ],
   "metadata": {}
  }
 ]
}